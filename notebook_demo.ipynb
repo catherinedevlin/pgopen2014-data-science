{
 "metadata": {
  "name": "",
  "signature": "sha256:8eb6158c4b13749e74881eb88fedb1824eb0f3d515228e256ba323c64c2dd02d"
 },
 "nbformat": 3,
 "nbformat_minor": 0,
 "worksheets": [
  {
   "cells": [
    {
     "cell_type": "markdown",
     "metadata": {},
     "source": [
      "Mix of\n",
      "======\n",
      "\n",
      "  - Markdown cells\n",
      "  - code cells"
     ]
    },
    {
     "cell_type": "code",
     "collapsed": false,
     "input": [
      "conf = 'Columbus Code Camp 2014'"
     ],
     "language": "python",
     "metadata": {},
     "outputs": [],
     "prompt_number": 1
    },
    {
     "cell_type": "code",
     "collapsed": false,
     "input": [
      "conf"
     ],
     "language": "python",
     "metadata": {},
     "outputs": [
      {
       "metadata": {},
       "output_type": "pyout",
       "prompt_number": 2,
       "text": [
        "'Columbus Code Camp 2014'"
       ]
      }
     ],
     "prompt_number": 2
    },
    {
     "cell_type": "code",
     "collapsed": false,
     "input": [
      "series_name, year = conf.split()[:-1], conf.split()[-1]\n",
      "next_year = int(year) + 1\n",
      "series_name = ' '.join(series_name)"
     ],
     "language": "python",
     "metadata": {},
     "outputs": [],
     "prompt_number": 3
    },
    {
     "cell_type": "code",
     "collapsed": false,
     "input": [
      "print('See you again at %s %d!' % (series_name, next_year))"
     ],
     "language": "python",
     "metadata": {},
     "outputs": [
      {
       "output_type": "stream",
       "stream": "stdout",
       "text": [
        "See you again at Columbus Code Camp 2015!\n"
       ]
      }
     ],
     "prompt_number": 4
    },
    {
     "cell_type": "heading",
     "level": 2,
     "metadata": {},
     "source": [
      "Enhancements"
     ]
    },
    {
     "cell_type": "heading",
     "level": 3,
     "metadata": {},
     "source": [
      "Tab-completion, help"
     ]
    },
    {
     "cell_type": "code",
     "collapsed": false,
     "input": [
      "conf.encode?"
     ],
     "language": "python",
     "metadata": {},
     "outputs": [],
     "prompt_number": 5
    },
    {
     "cell_type": "heading",
     "level": 3,
     "metadata": {},
     "source": [
      "Operating-system integration"
     ]
    },
    {
     "cell_type": "code",
     "collapsed": false,
     "input": [
      "ls"
     ],
     "language": "python",
     "metadata": {},
     "outputs": [
      {
       "output_type": "stream",
       "stream": "stdout",
       "text": [
        "book.ipynb           notebook_demo.ipynb           \u001b[0m\u001b[01;32mrun_htsql.sh\u001b[0m*\r\n",
        "\u001b[01;32mclean_db.sh\u001b[0m*         pgopen2014_datascience.ipynb  \u001b[01;32mrun_nb.sh\u001b[0m*\r\n",
        "\u001b[01;35mgot-one-already.gif\u001b[0m  pgo.pgdump.sql                \u001b[01;32mrun_sandman.sh\u001b[0m*\r\n",
        "knights.pgdump.sql   \u001b[01;35mpypgday.jpg\u001b[0m                   \u001b[01;34msample_data\u001b[0m/\r\n",
        "LICENSE              README.md                     test_slides.ipynb\r\n"
       ]
      }
     ],
     "prompt_number": 6
    },
    {
     "cell_type": "code",
     "collapsed": false,
     "input": [
      "!head notebook_demo.ipynb"
     ],
     "language": "python",
     "metadata": {},
     "outputs": [
      {
       "output_type": "stream",
       "stream": "stdout",
       "text": [
        "{\r\n",
        " \"metadata\": {\r\n",
        "  \"name\": \"\",\r\n",
        "  \"signature\": \"sha256:f5a10cc19809d2f1e1c084c2ee8df005758c936cb0ff6e0571e487d468d8f029\"\r\n",
        " },\r\n",
        " \"nbformat\": 3,\r\n",
        " \"nbformat_minor\": 0,\r\n",
        " \"worksheets\": [\r\n",
        "  {\r\n",
        "   \"cells\": [\r\n"
       ]
      }
     ],
     "prompt_number": 8
    },
    {
     "cell_type": "code",
     "collapsed": false,
     "input": [
      "files = !ls"
     ],
     "language": "python",
     "metadata": {},
     "outputs": [],
     "prompt_number": 9
    },
    {
     "cell_type": "code",
     "collapsed": false,
     "input": [
      "files"
     ],
     "language": "python",
     "metadata": {},
     "outputs": [
      {
       "metadata": {},
       "output_type": "pyout",
       "prompt_number": 10,
       "text": [
        "['book.ipynb',\n",
        " 'clean_db.sh',\n",
        " 'got-one-already.gif',\n",
        " 'knights.pgdump.sql',\n",
        " 'LICENSE',\n",
        " 'notebook_demo.ipynb',\n",
        " 'pgopen2014_datascience.ipynb',\n",
        " 'pgo.pgdump.sql',\n",
        " 'pypgday.jpg',\n",
        " 'README.md',\n",
        " 'run_htsql.sh',\n",
        " 'run_nb.sh',\n",
        " 'run_sandman.sh',\n",
        " 'sample_data',\n",
        " 'test_slides.ipynb']"
       ]
      }
     ],
     "prompt_number": 10
    },
    {
     "cell_type": "code",
     "collapsed": false,
     "input": [
      "%%perl\n",
      "@languages = ( \"bash\", \"perl\", \"ruby\" );\n",
      "\n",
      "for $lang ( @languages )  {\n",
      "\tprint \"You could write cells in $lang\\n\";\n",
      "}"
     ],
     "language": "python",
     "metadata": {},
     "outputs": [
      {
       "output_type": "stream",
       "stream": "stdout",
       "text": [
        "You could write cells in bash\n",
        "You could write cells in perl\n",
        "You could write cells in ruby\n"
       ]
      }
     ],
     "prompt_number": 11
    },
    {
     "cell_type": "heading",
     "level": 2,
     "metadata": {},
     "source": [
      "Uses"
     ]
    },
    {
     "cell_type": "markdown",
     "metadata": {},
     "source": [
      "- Persistent experiments\n",
      "- Self-documenting processes\n",
      "- Rich status reports\n",
      "- Web-publish with [nbviewer](nbviewer.ipython.org)\n",
      "- Presentations with [live_reveal](https://github.com/damianavila/live_reveal)"
     ]
    },
    {
     "cell_type": "code",
     "collapsed": false,
     "input": [],
     "language": "python",
     "metadata": {},
     "outputs": []
    }
   ],
   "metadata": {}
  }
 ]
}