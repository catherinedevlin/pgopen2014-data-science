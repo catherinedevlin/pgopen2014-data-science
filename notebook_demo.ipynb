{
 "metadata": {
  "name": "",
  "signature": "sha256:c05f55ce191d3b4b35f28525e6ce63d9069885082aaf2bedaed2adc1cc9299f1"
 },
 "nbformat": 3,
 "nbformat_minor": 0,
 "worksheets": [
  {
   "cells": [
    {
     "cell_type": "markdown",
     "metadata": {},
     "source": [
      "Mix of\n",
      "======\n",
      "\n",
      "  - Markdown cells\n",
      "  - code cells"
     ]
    },
    {
     "cell_type": "code",
     "collapsed": false,
     "input": [
      "conf = 'PGOpen 2014'"
     ],
     "language": "python",
     "metadata": {},
     "outputs": []
    },
    {
     "cell_type": "code",
     "collapsed": false,
     "input": [
      "conf"
     ],
     "language": "python",
     "metadata": {},
     "outputs": []
    },
    {
     "cell_type": "code",
     "collapsed": false,
     "input": [
      "series_name, year = conf.split()\n",
      "next_year = int(year) + 1"
     ],
     "language": "python",
     "metadata": {},
     "outputs": []
    },
    {
     "cell_type": "code",
     "collapsed": false,
     "input": [
      "print('See you again at %s %d!' % (series_name, next_year))"
     ],
     "language": "python",
     "metadata": {},
     "outputs": []
    },
    {
     "cell_type": "heading",
     "level": 2,
     "metadata": {},
     "source": [
      "Enhancements"
     ]
    },
    {
     "cell_type": "heading",
     "level": 3,
     "metadata": {},
     "source": [
      "Tab-completion, help"
     ]
    },
    {
     "cell_type": "code",
     "collapsed": false,
     "input": [
      "con"
     ],
     "language": "python",
     "metadata": {},
     "outputs": []
    },
    {
     "cell_type": "heading",
     "level": 3,
     "metadata": {},
     "source": [
      "Operating-system integration"
     ]
    },
    {
     "cell_type": "code",
     "collapsed": false,
     "input": [
      "ls"
     ],
     "language": "python",
     "metadata": {},
     "outputs": []
    },
    {
     "cell_type": "code",
     "collapsed": false,
     "input": [
      "!head not"
     ],
     "language": "python",
     "metadata": {},
     "outputs": []
    },
    {
     "cell_type": "code",
     "collapsed": false,
     "input": [
      "files = !ls"
     ],
     "language": "python",
     "metadata": {},
     "outputs": []
    },
    {
     "cell_type": "code",
     "collapsed": false,
     "input": [
      "files"
     ],
     "language": "python",
     "metadata": {},
     "outputs": []
    },
    {
     "cell_type": "code",
     "collapsed": false,
     "input": [
      "%%perl\n",
      "@languages = ( \"bash\", \"perl\", \"ruby\" );\n",
      "\n",
      "for $lang ( @languages )  {\n",
      "\tprint \"You could write cells in $lang\\n\";\n",
      "}"
     ],
     "language": "python",
     "metadata": {},
     "outputs": []
    },
    {
     "cell_type": "heading",
     "level": 2,
     "metadata": {},
     "source": [
      "Uses"
     ]
    },
    {
     "cell_type": "markdown",
     "metadata": {},
     "source": [
      "- Persistent experiments\n",
      "- Self-documenting processes\n",
      "- Rich status reports\n",
      "- Web-publish with [nbviewer](nbviewer.ipython.org)\n",
      "- Presentations with [live_reveal](https://github.com/damianavila/live_reveal)"
     ]
    },
    {
     "cell_type": "code",
     "collapsed": false,
     "input": [],
     "language": "python",
     "metadata": {},
     "outputs": []
    }
   ],
   "metadata": {}
  }
 ]
}