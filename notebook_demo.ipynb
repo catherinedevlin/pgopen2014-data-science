{
 "metadata": {
  "name": "",
  "signature": "sha256:00e807c4e7a798fd7c7035a94e4020fcb01f2bbb10af55d9579c34042363462d"
 },
 "nbformat": 3,
 "nbformat_minor": 0,
 "worksheets": [
  {
   "cells": [
    {
     "cell_type": "markdown",
     "metadata": {},
     "source": [
      "Mix of\n",
      "======\n",
      "\n",
      "  - Markdown cells\n",
      "  - code cells"
     ]
    },
    {
     "cell_type": "code",
     "collapsed": false,
     "input": [
      "conf = 'PGOpen 2014'"
     ],
     "language": "python",
     "metadata": {},
     "outputs": [],
     "prompt_number": 1
    },
    {
     "cell_type": "code",
     "collapsed": false,
     "input": [
      "conf"
     ],
     "language": "python",
     "metadata": {},
     "outputs": [
      {
       "metadata": {},
       "output_type": "pyout",
       "prompt_number": 2,
       "text": [
        "'PGOpen 2014'"
       ]
      }
     ],
     "prompt_number": 2
    },
    {
     "cell_type": "code",
     "collapsed": false,
     "input": [
      "series_name, year = conf.split()\n",
      "next_year = int(year) + 1"
     ],
     "language": "python",
     "metadata": {},
     "outputs": [],
     "prompt_number": 3
    },
    {
     "cell_type": "code",
     "collapsed": false,
     "input": [
      "print('See you again at %s %d!' % (series_name, next_year))"
     ],
     "language": "python",
     "metadata": {},
     "outputs": [
      {
       "output_type": "stream",
       "stream": "stdout",
       "text": [
        "See you again at PGOpen 2015!\n"
       ]
      }
     ],
     "prompt_number": 4
    },
    {
     "cell_type": "heading",
     "level": 2,
     "metadata": {},
     "source": [
      "Enhancements"
     ]
    },
    {
     "cell_type": "heading",
     "level": 3,
     "metadata": {},
     "source": [
      "Tab-completion, help"
     ]
    },
    {
     "cell_type": "code",
     "collapsed": false,
     "input": [
      "con"
     ],
     "language": "python",
     "metadata": {},
     "outputs": []
    },
    {
     "cell_type": "heading",
     "level": 3,
     "metadata": {},
     "source": [
      "Operating-system integration"
     ]
    },
    {
     "cell_type": "code",
     "collapsed": false,
     "input": [
      "ls"
     ],
     "language": "python",
     "metadata": {},
     "outputs": [
      {
       "output_type": "stream",
       "stream": "stdout",
       "text": [
        "book.ipynb           notebook_demo.ipynb                 \u001b[0m\u001b[01;32mrun_htsql.sh\u001b[0m*\r\n",
        "\u001b[01;32mclean_db.sh\u001b[0m*         pgopen2014_datascience.clean.ipynb  \u001b[01;32mrun_nb.sh\u001b[0m*\r\n",
        "\u001b[01;35mgot-one-already.gif\u001b[0m  pgopen2014_datascience.ipynb        \u001b[01;32mrun_sandman.sh\u001b[0m*\r\n",
        "knights.pgdump.sql   pgo.pgdump.sql                      \u001b[01;34msample_data\u001b[0m/\r\n",
        "LICENSE              README.md                           test_slides.ipynb\r\n"
       ]
      }
     ],
     "prompt_number": 5
    },
    {
     "cell_type": "code",
     "collapsed": false,
     "input": [
      "!head not"
     ],
     "language": "python",
     "metadata": {},
     "outputs": [
      {
       "output_type": "stream",
       "stream": "stdout",
       "text": [
        "head: cannot open \u2018not\u2019 for reading: No such file or directory\r\n"
       ]
      }
     ],
     "prompt_number": 6
    },
    {
     "cell_type": "code",
     "collapsed": false,
     "input": [
      "files = !ls"
     ],
     "language": "python",
     "metadata": {},
     "outputs": [],
     "prompt_number": 7
    },
    {
     "cell_type": "code",
     "collapsed": false,
     "input": [
      "files"
     ],
     "language": "python",
     "metadata": {},
     "outputs": [
      {
       "metadata": {},
       "output_type": "pyout",
       "prompt_number": 8,
       "text": [
        "['book.ipynb',\n",
        " 'clean_db.sh',\n",
        " 'got-one-already.gif',\n",
        " 'knights.pgdump.sql',\n",
        " 'LICENSE',\n",
        " 'notebook_demo.ipynb',\n",
        " 'pgopen2014_datascience.clean.ipynb',\n",
        " 'pgopen2014_datascience.ipynb',\n",
        " 'pgo.pgdump.sql',\n",
        " 'README.md',\n",
        " 'run_htsql.sh',\n",
        " 'run_nb.sh',\n",
        " 'run_sandman.sh',\n",
        " 'sample_data',\n",
        " 'test_slides.ipynb']"
       ]
      }
     ],
     "prompt_number": 8
    },
    {
     "cell_type": "code",
     "collapsed": false,
     "input": [
      "%%perl\n",
      "@languages = ( \"bash\", \"perl\", \"ruby\" );\n",
      "\n",
      "for $lang ( @languages )  {\n",
      "\tprint \"You could write cells in $lang\\n\";\n",
      "}"
     ],
     "language": "python",
     "metadata": {},
     "outputs": [
      {
       "output_type": "stream",
       "stream": "stdout",
       "text": [
        "You could write cells in bash\n",
        "You could write cells in perl\n",
        "You could write cells in ruby\n"
       ]
      }
     ],
     "prompt_number": 9
    },
    {
     "cell_type": "heading",
     "level": 2,
     "metadata": {},
     "source": [
      "Uses"
     ]
    },
    {
     "cell_type": "markdown",
     "metadata": {},
     "source": [
      "- Persistent experiments\n",
      "- Self-documenting processes\n",
      "- Rich status reports\n",
      "- Web-publish with [nbviewer](nbviewer.ipython.org)\n",
      "- Presentations with [live_reveal](https://github.com/damianavila/live_reveal)"
     ]
    },
    {
     "cell_type": "code",
     "collapsed": false,
     "input": [],
     "language": "python",
     "metadata": {},
     "outputs": []
    }
   ],
   "metadata": {}
  }
 ]
}